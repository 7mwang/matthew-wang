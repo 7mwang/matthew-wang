{
 "cells": [
  {
   "cell_type": "markdown",
   "metadata": {},
   "source": [
    "---\n",
    "toc: true\n",
    "comments: true\n",
    "layout: post\n",
    "title: JS Types\n",
    "type: hacks\n",
    "courses: { csp: {week: 5, categories: [4.A]}}\n",
    "categories: [C1.4]\n",
    "---"
   ]
  },
  {
   "cell_type": "markdown",
   "metadata": {},
   "source": [
    "This code defines a bunch of maps and lists, and prints them out, as well as outputting their types.\n",
    "<br><a href = \"https://nighthawkcoders.github.io/teacher/basics/datatypes\">Original Lesson</a><br>"
   ]
  },
  {
   "cell_type": "code",
   "execution_count": 1,
   "metadata": {
    "vscode": {
     "languageId": "javascript"
    }
   },
   "outputs": [
    {
     "data": {
      "application/javascript": "var classes = [\"US History\", \"AP Calculus\", \"American Literature\", \"AP Computer Science Principles\", \"AP Physics\"]\nvar interests = [\"Gaming\", \"Reading\", \"Badminton\", \"Hiking\"]\nvar obj = {\n    name: \"Matthew\",\n    age: 29,\n    classes: classes,\n    interests: interests,\n    favorite_color: \"green\",\n    birthday: \"July 28, 2007\"\n}\nconsole.log(obj)\nconsole.log(\"Age is a \" + typeof obj.age)\nconsole.log(\"Classes is a \" + typeof obj.classes)\nconsole.log(\"Birthday is a \"+typeof obj.birthday)\nobj.age = obj.age - 13\nconsole.log(\"Real Age: \"+ obj.age)\n",
      "text/plain": [
       "<IPython.core.display.Javascript object>"
      ]
     },
     "metadata": {},
     "output_type": "display_data"
    }
   ],
   "source": [
    "%%js\n",
    "var classes = [\"US History\", \"AP Calculus\", \"American Literature\", \"AP Computer Science Principles\", \"AP Physics\"]\n",
    "var interests = [\"Gaming\", \"Reading\", \"Badminton\", \"Hiking\"]\n",
    "var obj = {\n",
    "    name: \"Matthew\",\n",
    "    age: 29,\n",
    "    classes: classes,\n",
    "    interests: interests,\n",
    "    favorite_color: \"green\",\n",
    "    birthday: \"July 28, 2007\"\n",
    "}\n",
    "console.log(obj)\n",
    "console.log(\"Age is a \" + typeof obj.age)\n",
    "console.log(\"Classes is a \" + typeof obj.classes)\n",
    "console.log(\"Birthday is a \"+typeof obj.birthday)\n",
    "obj.age = obj.age - 13\n",
    "console.log(\"Real Age: \"+ obj.age)"
   ]
  }
 ],
 "metadata": {
  "kernelspec": {
   "display_name": "Python 3",
   "language": "python",
   "name": "python3"
  },
  "language_info": {
   "codemirror_mode": {
    "name": "ipython",
    "version": 3
   },
   "file_extension": ".py",
   "mimetype": "text/x-python",
   "name": "python",
   "nbconvert_exporter": "python",
   "pygments_lexer": "ipython3",
   "version": "3.10.12"
  },
  "orig_nbformat": 4
 },
 "nbformat": 4,
 "nbformat_minor": 2
}
