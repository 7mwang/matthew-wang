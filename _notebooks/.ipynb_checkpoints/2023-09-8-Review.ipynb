{
 "cells": [
  {
   "cell_type": "markdown",
   "metadata": {},
   "source": [
    "<font size=18px color=purple>This is a mini-lesson of all of the content gone over thusfar, including:</font>\n",
    "<ul>\n",
    "<li>Python</li>\n",
    "<li>Javascript</li>\n",
    "<li>HTML</li>\n",
    "<li>Bash</li>"
   ]
  },
  {
   "cell_type": "markdown",
   "metadata": {},
   "source": [
    "<b>Intro to Python</b>\n",
    "\n",
    "Python is a very versatile and simple language that is very good for beginners to programming to use.\n",
    "\n",
    "In this section, we will go over basic python code, and how it can be used, including code for a quiz at the bottom of the section.\n",
    "\n",
    "Variables:\n",
    "\n",
    "    Defining a variable\n",
    "\n",
    "        When using python, before you use a variable in any function, you must define the variable. The four main variables are:\n",
    "\n",
    "            Strings: Hold text, in quotations. ex: str = \"Hi\"\n",
    "            Integers: Hold numbers, ex. int = 1\n",
    "            Booleans: Hold True/False statements. bool = False *This is case sensitive!\n",
    "            Lists: Holds groups of text, ex. ls = [\"hi\", \"this is a list\"]\n",
    "        \n",
    "    Using a variable\n",
    "    \n",
    "        Variables can be used in functions to output data into the terminal\n",
    "        For example:"
   ]
  },
  {
   "cell_type": "code",
   "execution_count": 4,
   "metadata": {},
   "outputs": [
    {
     "name": "stdout",
     "output_type": "stream",
     "text": [
      "hEy\n",
      "hey\n"
     ]
    }
   ],
   "source": [
    "var = \"hEy\"\n",
    "print(var)\n",
    "lower = var.lower()\n",
    "print(lower)"
   ]
  },
  {
   "cell_type": "markdown",
   "metadata": {},
   "source": [
    "Functions:\n",
    "\n",
    "print()\n",
    "\n",
    "    The print function is used to print out text, or a variable to the terminal.\n",
    "    \n",
    "    ex: print(\"Hello World!\") when run would print Hello World! into the terminal\n",
    "\n",
    "input()\n",
    "\n",
    "    The input function can be used to take user input from the terminal\n",
    "\n",
    "    ex: i = input(\"What is your name?\"\\nl) would prompt the user to input a value, after printing \"What is your name?\", then store the input in the \"i\" variable.\n",
    "\n"
   ]
  },
  {
   "cell_type": "markdown",
   "metadata": {},
   "source": [
    "Conditions If and Else:\n",
    "\n",
    "    If and Else conditions are very helpful in restricting certain code to certain conditions, and can be used in tandem with the input() function.\n",
    "\n",
    "        ex. i = input(\"hi\")\n",
    "            if i = \"hello!\":\n",
    "                print(\"thanks for responding!\")\n",
    "            else:\n",
    "                print(\"goodbye\")\n",
    "    \n",
    "    This code asks for an input from the user, and if that input is a certain value, in this case \"hello!\", the code will print out a response, and if not, it will print out a different response.\n",
    "    "
   ]
  },
  {
   "cell_type": "markdown",
   "metadata": {},
   "source": [
    "Putting it together:\n",
    "    If you use all of what has been gone over so far along with some math and one new function, you can create a code for a quiz! This is an example of a quiz I created with this knowledge:\n",
    "        "
   ]
  },
  {
   "cell_type": "code",
   "execution_count": 5,
   "metadata": {},
   "outputs": [
    {
     "name": "stdout",
     "output_type": "stream",
     "text": [
      "What is your name?\n",
      "Matthew Wang\n",
      "Hello Matthew Wang\n",
      "Please answer all the questions to the best of your ability!\n",
      "\n",
      "What days of the week do we start live reviews?\n",
      "Response: Wednesdays\n",
      "Wednesdays is the correct answer!\n",
      "What is the full name of this class?\n",
      "Response: Computer Science Principles\n",
      "Computer Science Principles is the correct answer!\n",
      "Matthew Wang, your score is: 2/2, or 100.0 percent !\n"
     ]
    }
   ],
   "source": [
    "import math\n",
    "score=0\n",
    "n=\"What is your name?\\n\"\n",
    "name=input(n)\n",
    "print(n+name)\n",
    "print(f\"Hello {name}\")\n",
    "print(\"Please answer all the questions to the best of your ability!\\n\")\n",
    "qq=\"What days of the week do we start live reviews?\\nResponse: \"\n",
    "q1=input(qq)\n",
    "print(qq+q1)\n",
    "if q1.lower() in [\"wednesday\", \"wednesdays\"]:\n",
    "    score+=1\n",
    "    print(f\"{q1} is the correct answer!\")\n",
    "qq=\"What is the full name of this class?\\nResponse: \"\n",
    "q2=input(qq)\n",
    "print(qq+q2)\n",
    "if q2.lower() == \"computer science principles\":\n",
    "    score+=1\n",
    "    print(f\"{q2} is the correct answer!\")\n",
    "if score < 1:\n",
    "    x = \" :(\"\n",
    "if score > 1:\n",
    "    x = \"!\"\n",
    "finalScore=round(100*score/2, 2)\n",
    "print(f\"{name}, your score is: {score}/2, or {finalScore} percent {x}\")"
   ]
  },
  {
   "cell_type": "markdown",
   "metadata": {},
   "source": [
    "<b>Intro to JavaScript</b>\n",
    "\n",
    "Javascript is mainly used in html code, in between <script></script> tags.\n",
    "\n",
    "Variables:\n",
    "\n",
    "        Defining variables in JavaScript is very similar to in Python, the only difference being is that you use var x = instead of just defining the variable with x = .\n",
    "            ex. var x = \"heyyo!\"\n",
    "\n",
    "Functions:\n",
    "\n",
    "        In Javascript, like python, you can create your own functions, or use built in functions. One of the more prominent functions you will use while working with a HTML website is:\n",
    "            document.getElementsById/Name().\n",
    "            This function gets an element on an HTML site, and can be used to edit that element.\n",
    "            For example, if there is an element with id \"button\" on the site, you can:\n",
    "              "
   ]
  },
  {
   "cell_type": "code",
   "execution_count": null,
   "metadata": {
    "vscode": {
     "languageId": "html"
    }
   },
   "outputs": [],
   "source": [
    "<button id='button' value=\"\"></button>\n",
    "<script>\n",
    "var x = \"input\";\n",
    "document.getElementsById('button').innerHTML = x;\n",
    "</script>"
   ]
  },
  {
   "cell_type": "markdown",
   "metadata": {},
   "source": [
    "Some examples of JS code:<br>\n",
    "    <a href=\"/matthew-wang//c1.4/2023/08/30/Snake.html\">Snake</a><br>\n",
    "    <a href=\"/matthew-wang//c1.4/2023/09/05/Input_Testing.html\">Cps test</a><br>\n",
    "    <a href=\"/matthew-wang//c1.4/2023/09/01/Calculator.html\">Calculator</a>"
   ]
  },
  {
   "cell_type": "markdown",
   "metadata": {},
   "source": [
    "p.s. end all Javascript code with ;"
   ]
  },
  {
   "cell_type": "markdown",
   "metadata": {},
   "source": [
    "<b>Intro to HTML</b>\n",
    "\n",
    "HTML is used for web-development, as is JavaScript. \n",
    "\n",
    "Tags:\n",
    "        Tags are used like functions are in Python and Javascript. They start with \"< a tag >\", and end with \"< /a tag >\" \n",
    "        \n",
    "            <p>:\n",
    "                <p> is used to define a paragraph. You can put text in these\n",
    "\n",
    "            <span>:\n",
    "                <span> can be used similarly to <p> but has more customization opportunities\n",
    "\n",
    "            <button>:\n",
    "                <button> is used to create buttons which can be pressed and interacted with on the website\n",
    "            \n",
    "            <script>:\n",
    "                <script> contains JavaScript code which can interact with the HTML code\n",
    "\n",
    "            <a>:\n",
    "                <a> is used to create links/hyperlinks\n",
    "            \n",
    "            <section>:\n",
    "                <section> is used to define functions in a website, which can be hyperlinked to\n",
    "\n",
    "            <ul>, and <li>:\n",
    "                These are used to create lists, which are automatically bulleted\n",
    "            \n",
    "            <img>:\n",
    "                Used to input images with a link, or file path\n",
    "            \n",
    "            <body>:\n",
    "                Defines main HTML part\n",
    "            \n",
    "            <h1>:\n",
    "                Used to create headings\n",
    "            \n",
    "            <u>, <b>, etc:\n",
    "                Many tags in html can be used to format text, u is for underline, and b is for bold\n",
    "            \n",
    "            <font>:\n",
    "                This tag is used to format text in a larger section\n",
    "            \n",
    "\n",
    "Formatting:\n",
    "            Many, if not all of the html tags include formatting. You can change sizes, colors, and alignment, along with most anything you could think of.\n",
    "            "
   ]
  },
  {
   "cell_type": "markdown",
   "metadata": {},
   "source": [
    "<b>Intro to Bash</b>\n",
    "\n",
    "Bash is used in the Linux terminal, and is mainly used for interaction with files, and occasionally installations and other things.\n",
    "\n",
    "Main Commands:\n",
    "\n",
    "        cd:\n",
    "            Change directory, can change to the folder path that you provide\n",
    "                ex. cd /matth/project/assets\n",
    "    \n",
    "        ls:\n",
    "            Lists all the files in the directory\n",
    "    \n",
    "        echo:\n",
    "            prints string/text data into the terminal, or can print commands\n",
    "                ex. echo \"hello\" would put hello into the terminal, or echo cd /matth/projects/assets would execute the command\n",
    "        \n",
    "        cat:\n",
    "            prints the text contents of a file\n",
    "                ex. cd /matth/projects/assets\n",
    "                    cat data.txt\n",
    "                        -> data data woo data\n",
    "        \n",
    "        \n"
   ]
  },
  {
   "cell_type": "code",
   "execution_count": 2,
   "metadata": {},
   "outputs": [
    {
     "name": "stdout",
     "output_type": "stream",
     "text": [
      "Installed tools and versions:\n",
      "pip 22.0.2 from /usr/lib/python3/dist-packages/pip (python 3.10)\n",
      "Homebrew 4.1.6\n",
      "ruby 3.0.2p107 (2021-07-07 revision 0db68f0233) [x86_64-linux-gnu]\n",
      "Selected Jupyter core packages...\n",
      "IPython          : 7.31.1\n",
      "ipykernel        : 6.7.0\n",
      "ipywidgets       : 6.0.0\n",
      "jupyter_client   : 7.1.2\n",
      "jupyter_core     : 4.9.1\n",
      "jupyter_server   : not installed\n",
      "jupyterlab       : not installed\n",
      "nbclient         : 0.5.6\n",
      "nbconvert        : 7.8.0\n",
      "nbformat         : 5.9.2\n",
      "notebook         : 6.4.8\n",
      "qtconsole        : not installed\n",
      "traitlets        : 5.1.1\n",
      "Switch to project directory\n",
      "\n",
      "List files and folders in project directory\n",
      "\n",
      "Gemfile\n",
      "Gemfile.lock\n",
      "LICENSE\n",
      "Makefile\n",
      "README.md\n",
      "_config.yml\n",
      "_data\n",
      "_includes\n",
      "_layouts\n",
      "_notebooks\n",
      "_posts\n",
      "_site\n",
      "csa.md\n",
      "csp.md\n",
      "csse.md\n",
      "images\n",
      "index.md\n",
      "indexBlogs.md\n",
      "resources.md\n",
      "scripts\n",
      "print text content of _config.yml\n",
      "\n",
      "title: CompSci Blogs\n",
      "description: \"August 2023 to June 2024\"\n",
      "owner_name: Matthew Wang\n",
      "github_username: 7mwang\n",
      "baseurl: \"/matthew-wang\"\n",
      "remote_theme: pages-themes/hacker@v0.2.0\n",
      "# remote_theme: pages-themes/dinky@v0.2.0\n",
      "# remote_theme: pages-themes/minimal@v0.2.0\n",
      "# remote_theme: pages-themes/hacker@v0.2.0\n",
      "# remote_theme: pages-themes/cayman@v0.2.0\n",
      "# remote_theme: pages-themes/time-machine@v0.2.0\n",
      "plugins:\n",
      "- jekyll-remote-theme\n",
      "future: true\n"
     ]
    }
   ],
   "source": [
    "                            %%script bash\n",
    "                            echo \"Installed tools and versions:\"\n",
    "                            pip --version\n",
    "                            brew --version\n",
    "                            ruby -v \n",
    "                            jupyter --version\n",
    "                            echo \"Switch to project directory\"\n",
    "                            echo\"\"\n",
    "                            cd /mnt/c/Users/matth/matthew-wang/\n",
    "                            echo \"List files and folders in project directory\"\n",
    "                            echo\"\"\n",
    "                            ls\n",
    "                            echo \"print text content of _config.yml\"\n",
    "                            echo\"\"\n",
    "                            cat _config.yml"
   ]
  }
 ],
 "metadata": {
  "kernelspec": {
   "display_name": "Python 3",
   "language": "python",
   "name": "python3"
  },
  "language_info": {
   "codemirror_mode": {
    "name": "ipython",
    "version": 3
   },
   "file_extension": ".py",
   "mimetype": "text/x-python",
   "name": "python",
   "nbconvert_exporter": "python",
   "pygments_lexer": "ipython3",
   "version": "3.10.12"
  },
  "orig_nbformat": 4
 },
 "nbformat": 4,
 "nbformat_minor": 2
}
