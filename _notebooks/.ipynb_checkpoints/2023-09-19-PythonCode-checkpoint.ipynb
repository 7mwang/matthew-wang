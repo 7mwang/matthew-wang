{
 "cells": [
  {
   "cell_type": "code",
   "execution_count": 1,
   "metadata": {},
   "outputs": [
    {
     "name": "stdout",
     "output_type": "stream",
     "text": [
      "Pick a fruit (make sure to put it in lower case)\n",
      "apple\n",
      "banana\n",
      "orange\n",
      "honeydew\n",
      "blueberry\n",
      "plum\n",
      "banana\n",
      "The color of banana is yellow\n"
     ]
    }
   ],
   "source": [
    "dict = {\n",
    "    \"apple\": \"red\",\n",
    "    \"banana\": \"yellow\",\n",
    "    \"orange\": \"orange\",\n",
    "    \"honeydew\": \"green\",\n",
    "    \"blueberry\": \"blue\",\n",
    "    \"plum\": \"purple\"\n",
    "}\n",
    "list= [\"apple\", \"banana\", \"orange\", \"honeydew\", \"blueberry\", \"plum\"]\n",
    "print(\"Pick a fruit (make sure to put it in lower case)\")\n",
    "for i in list:\n",
    "    print(i)\n",
    "x=input()\n",
    "print(f\"The color of {x} is {dict[x]}\")"
   ]
  },
  {
   "cell_type": "code",
   "execution_count": 17,
   "metadata": {},
   "outputs": [
    {
     "ename": "SyntaxError",
     "evalue": "leading zeros in decimal integer literals are not permitted; use an 0o prefix for octal integers (3451288710.py, line 1)",
     "output_type": "error",
     "traceback": [
      "\u001b[0;36m  File \u001b[0;32m\"/tmp/ipykernel_924/3451288710.py\"\u001b[0;36m, line \u001b[0;32m1\u001b[0m\n\u001b[0;31m    01\u001b[0m\n\u001b[0m    ^\u001b[0m\n\u001b[0;31mSyntaxError\u001b[0m\u001b[0;31m:\u001b[0m leading zeros in decimal integer literals are not permitted; use an 0o prefix for octal integers\n"
     ]
    }
   ],
   "source": [
    "01"
   ]
  }
 ],
 "metadata": {
  "kernelspec": {
   "display_name": "Python 3 (ipykernel)",
   "language": "python",
   "name": "python3"
  },
  "language_info": {
   "codemirror_mode": {
    "name": "ipython",
    "version": 3
   },
   "file_extension": ".py",
   "mimetype": "text/x-python",
   "name": "python",
   "nbconvert_exporter": "python",
   "pygments_lexer": "ipython3",
   "version": "3.10.12"
  }
 },
 "nbformat": 4,
 "nbformat_minor": 2
}
