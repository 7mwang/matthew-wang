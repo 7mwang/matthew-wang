{
 "cells": [
  {
   "cell_type": "code",
   "execution_count": 10,
   "metadata": {},
   "outputs": [
    {
     "name": "stdout",
     "output_type": "stream",
     "text": [
      "What is your name?\n",
      "amwsf\n",
      "Hello amwsf\n",
      "Please answer all the questions to the best of your ability!\n",
      "\n",
      "What days of the week do we start live reviews?\n",
      "Response:wednesdays\n",
      "wednesdays is the correct answer!\n",
      "What is the full name of this class?\n",
      "Response:aosidjfaskfj\n",
      "amwsf, your score is: 1/2, or 33.33 percent !\n"
     ]
    }
   ],
   "source": [
    "import math\n",
    "score=0\n",
    "n=\"What is your name?\\n\"\n",
    "name=input(n)\n",
    "print(n+name)\n",
    "print(f\"Hello {name}\")\n",
    "print(\"Please answer all the questions to the best of your ability!\\n\")\n",
    "qq=\"What days of the week do we start live reviews?\\nResponse: \"\n",
    "q1=input(qq)\n",
    "print(qq+q1)\n",
    "if q1.lower() in [\"wednesday\", \"wednesdays\"]:\n",
    "    score+=1\n",
    "    print(f\"{q1} is the correct answer!\")\n",
    "qq=\"What is the full name of this class?\\nResponse: \"\n",
    "q2=input(qq)\n",
    "print(qq+q2)\n",
    "if q2.lower() == \"computer science principles\":\n",
    "    score+=1\n",
    "    print(f\"{q2} is the correct answer!\")\n",
    "if score < 1:\n",
    "    x = \" :(\"\n",
    "if score > 1:\n",
    "    x = \"!\"\n",
    "finalScore=round(100*score/2, 2)\n",
    "print(f\"{name}, your score is: {score}/2, or {finalScore} percent {x}\")"
   ]
  },
  {
   "cell_type": "code",
   "execution_count": null,
   "metadata": {},
   "outputs": [],
   "source": []
  }
 ],
 "metadata": {
  "kernelspec": {
   "display_name": "Python 3 (ipykernel)",
   "language": "python",
   "name": "python3"
  },
  "language_info": {
   "codemirror_mode": {
    "name": "ipython",
    "version": 3
   },
   "file_extension": ".py",
   "mimetype": "text/x-python",
   "name": "python",
   "nbconvert_exporter": "python",
   "pygments_lexer": "ipython3",
   "version": "3.10.12"
  }
 },
 "nbformat": 4,
 "nbformat_minor": 2
}
