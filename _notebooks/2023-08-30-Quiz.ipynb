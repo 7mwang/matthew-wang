{
 "cells": [
  {
   "cell_type": "code",
   "execution_count": 2,
   "metadata": {},
   "outputs": [
    {
     "name": "stdout",
     "output_type": "stream",
     "text": [
      "What is your name?\n",
      "Matthew Wang\n",
      "Hello Matthew Wang\n",
      "Please answer all the questions to the best of your ability!\n",
      "\n",
      "What days of the week do we start live reviews?\n",
      "Wednesdays\n",
      "Wednesdays is the correct answer!\n",
      "What is the full name of this class?\n",
      "Computer Science Principles\n",
      "Computer Science Principles is the correct answer!\n",
      "Matthew Wang, your score is: 2/2, or 100.0 percent!\n"
     ]
    }
   ],
   "source": [
    "score=0\n",
    "name=input(\"What is your name?\\n\")\n",
    "print(\"Hello \" + name)\n",
    "print(\"Please answer all the questions to the best of your ability!\\n\")\n",
    "q1=input(\"What days of the week do we start live reviews?\\n\")\n",
    "if q1.lower() == \"wednesday\" or q1.lower() == \"wednesdays\":\n",
    "    score+=1\n",
    "    print(q1 + \" is the correct answer!\")\n",
    "q2=input(\"What is the full name of this class?\\n\")\n",
    "if q2.lower() == \"computer science principles\":\n",
    "    score+=1\n",
    "    print(q2 + \" is the correct answer!\")\n",
    "if score < 1:\n",
    "    x = \" :(\"\n",
    "if score > 1:\n",
    "    x = \"!\"\n",
    "print(name + \", your score is: \" + str(score) + \"/2, or \" + str(100*score/2) + \" percent\" + x)"
   ]
  },
  {
   "cell_type": "code",
   "execution_count": null,
   "metadata": {},
   "outputs": [],
   "source": []
  }
 ],
 "metadata": {
  "kernelspec": {
   "display_name": "Python 3 (ipykernel)",
   "language": "python",
   "name": "python3"
  },
  "language_info": {
   "codemirror_mode": {
    "name": "ipython",
    "version": 3
   },
   "file_extension": ".py",
   "mimetype": "text/x-python",
   "name": "python",
   "nbconvert_exporter": "python",
   "pygments_lexer": "ipython3",
   "version": "3.10.12"
  }
 },
 "nbformat": 4,
 "nbformat_minor": 2
}
