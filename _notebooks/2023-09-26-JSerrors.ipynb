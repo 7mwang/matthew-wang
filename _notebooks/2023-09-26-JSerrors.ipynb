{
 "cells": [
  {
   "cell_type": "markdown",
   "metadata": {},
   "source": [
    "---\n",
    "toc: true\n",
    "comments: true\n",
    "layout: post\n",
    "title: JS Errors\n",
    "type: hacks\n",
    "courses: { csp: {week: 5, categories: [4.A]}}\n",
    "categories: [C1.4]\n",
    "---"
   ]
  },
  {
   "cell_type": "markdown",
   "metadata": {},
   "source": [
    "These lines of code were taken and edited/revised to function better from the teacher repository. I accomplished this by using various for loops abd functions to loop through lists and strings. I also had to get a little bit creative to find the solutions to how to make a certain thing, for example choosing one of many ways to print out odd numbers, and using a while loop instead of for + if/else etc."
   ]
  },
  {
   "cell_type": "markdown",
   "metadata": {},
   "source": [
    "<br><a href = \"https://nighthawkcoders.github.io/teacher/basics/js-debug\">Original Lesson</a><br>"
   ]
  },
  {
   "cell_type": "code",
   "execution_count": 15,
   "metadata": {
    "vscode": {
     "languageId": "javascript"
    }
   },
   "outputs": [
    {
     "data": {
      "application/javascript": "\nvar alphabet = \"abcdefghijklmnopqrstuvwxyz\";\nvar alphabetList = [];\n\nfor (var i = 0; i < 26; i++) {\n\talphabetList.push(alphabet.charAt(i));\n}\n\nlet letterNumber = 5\n\nfor (var i = 0; i < alphabetList.length; i++) {\n\tif (i === letterNumber-1) {\n\t\tconsole.log(alphabetList[letterNumber-1] + \" is letter \" + letterNumber + \" in the alphabet\")\n\t}\n}\n\nlet odds = [];\nlet n = 1;\n\nwhile (n <= 10) {\n    if (n % 2 != 0) {\n        odds.push(n)\n    }\n    n += 2\n}\nvar menu =  {\"burger\": 3.99,\n    \"fries\": 1.99,\n    \"drink\": 0.99}\nvar total = 0\n\n//shows the user the menu and prompts them to select an item\nconsole.log(\"Menu\")\nfor (var item in menu) {\n    console.log(item + \"  $\" + menu[item].toFixed(2)) //why is toFixed used?\n}\nvar buy = [\"burger\", \"fries\", \"drink\", \"drink\"]\nfor (var i=0; i < buy.length; i++){\n    total = total+menu[buy[i]] \n}\n//ideally the code should support mutliple items\n//code should add the price of the menu items selected by the user \nconsole.log(\"Your total is: $\"+ total.toFixed(2)+ \". Your items are: \" + buy)\n\n\nconsole.log(odds);\nconsole.log(alphabetList);\n\n",
      "text/plain": [
       "<IPython.core.display.Javascript object>"
      ]
     },
     "metadata": {},
     "output_type": "display_data"
    }
   ],
   "source": [
    "%%js\n",
    "\n",
    "var alphabet = \"abcdefghijklmnopqrstuvwxyz\";\n",
    "var alphabetList = [];\n",
    "\n",
    "for (var i = 0; i < 26; i++) {\n",
    "\talphabetList.push(alphabet.charAt(i));\n",
    "}\n",
    "console.log(alphabetList);\n"
   ]
  },
  {
   "cell_type": "code",
   "execution_count": null,
   "metadata": {
    "vscode": {
     "languageId": "javascript"
    }
   },
   "outputs": [],
   "source": [
    "%%js\n",
    "let letterNumber = 5\n",
    "\n",
    "for (var i = 0; i < alphabetList.length; i++) {\n",
    "\tif (i === letterNumber-1) {\n",
    "\t\tconsole.log(alphabetList[letterNumber-1] + \" is letter \" + letterNumber + \" in the alphabet\")\n",
    "\t}\n",
    "}\n",
    "\n",
    "let odds = [];\n",
    "let n = 1;\n",
    "\n",
    "while (n <= 10) {\n",
    "    if (n % 2 != 0) {\n",
    "        odds.push(n)\n",
    "    }\n",
    "    n += 2\n",
    "}\n",
    "console.log(odds);"
   ]
  },
  {
   "cell_type": "markdown",
   "metadata": {},
   "source": [
    "For this final challenge, I grabbed the corresponding values of the keys in one map that I took from a list that defines what is being bought. I then outputted all of the keys added together since they are integers, and also printed out the buy list in one message with concatenation."
   ]
  },
  {
   "cell_type": "code",
   "execution_count": null,
   "metadata": {
    "vscode": {
     "languageId": "javascript"
    }
   },
   "outputs": [],
   "source": [
    "%%js\n",
    "var menu =  {\"burger\": 3.99,\n",
    "    \"fries\": 1.99,\n",
    "    \"drink\": 0.99}\n",
    "var total = 0\n",
    "\n",
    "console.log(\"Menu\")\n",
    "for (var item in menu) {\n",
    "    console.log(item + \"  $\" + menu[item].toFixed(2)) \n",
    "}\n",
    "var buy = [\"burger\", \"fries\", \"drink\", \"drink\"]\n",
    "for (var i=0; i < buy.length; i++){\n",
    "    total = total+menu[buy[i]] \n",
    "}\n",
    "console.log(\"Your total is: $\"+ total.toFixed(2)+ \". Your items are: \" + buy)"
   ]
  }
 ],
 "metadata": {
  "kernelspec": {
   "display_name": "Python 3",
   "language": "python",
   "name": "python3"
  },
  "language_info": {
   "codemirror_mode": {
    "name": "ipython",
    "version": 3
   },
   "file_extension": ".py",
   "mimetype": "text/x-python",
   "name": "python",
   "nbconvert_exporter": "python",
   "pygments_lexer": "ipython3",
   "version": "3.10.12"
  },
  "orig_nbformat": 4
 },
 "nbformat": 4,
 "nbformat_minor": 2
}
