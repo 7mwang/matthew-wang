{
 "cells": [
  {
   "cell_type": "code",
   "execution_count": 18,
   "metadata": {},
   "outputs": [
    {
     "name": "stdout",
     "output_type": "stream",
     "text": [
      "Installed tools and versions:\n",
      "pip 22.0.2 from /usr/lib/python3/dist-packages/pip (python 3.10)\n",
      "Homebrew 4.1.6\n",
      "ruby 3.0.2p107 (2021-07-07 revision 0db68f0233) [x86_64-linux-gnu]\n",
      "Selected Jupyter core packages...\n",
      "IPython          : 7.31.1\n",
      "ipykernel        : 6.7.0\n",
      "ipywidgets       : 6.0.0\n",
      "jupyter_client   : 7.1.2\n",
      "jupyter_core     : 4.9.1\n",
      "jupyter_server   : not installed\n",
      "jupyterlab       : not installed\n",
      "nbclient         : 0.5.6\n",
      "nbconvert        : 7.8.0\n",
      "nbformat         : 5.9.2\n",
      "notebook         : 6.4.8\n",
      "qtconsole        : not installed\n",
      "traitlets        : 5.1.1\n",
      "Switch to project directory\n",
      "\n",
      "List files and folders in project directory\n",
      "\n",
      "Gemfile\n",
      "Gemfile.lock\n",
      "LICENSE\n",
      "Makefile\n",
      "README.md\n",
      "_config.yml\n",
      "_data\n",
      "_includes\n",
      "_layouts\n",
      "_notebooks\n",
      "_posts\n",
      "_site\n",
      "csa.md\n",
      "csp.md\n",
      "csse.md\n",
      "images\n",
      "index.md\n",
      "indexBlogs.md\n",
      "resources.md\n",
      "scripts\n",
      "print text content of _config.yml\n",
      "\n",
      "title: CompSci Blogs\n",
      "description: \"August 2023 to June 2024\"\n",
      "owner_name: Matthew Wang\n",
      "github_username: 7mwang\n",
      "baseurl: \"/matthew-wang\"\n",
      "remote_theme: pages-themes/hacker@v0.2.0\n",
      "# remote_theme: pages-themes/dinky@v0.2.0\n",
      "# remote_theme: pages-themes/minimal@v0.2.0\n",
      "# remote_theme: pages-themes/hacker@v0.2.0\n",
      "# remote_theme: pages-themes/cayman@v0.2.0\n",
      "# remote_theme: pages-themes/time-machine@v0.2.0\n",
      "plugins:\n",
      "- jekyll-remote-theme\n",
      "future: true\n"
     ]
    }
   ],
   "source": [
    "                            %%script bash\n",
    "                            echo \"Installed tools and versions:\"\n",
    "                            pip --version\n",
    "                            brew --version\n",
    "                            ruby -v \n",
    "                            jupyter --version\n",
    "                            echo \"Switch to project directory\"\n",
    "                            echo\"\"\n",
    "                            cd /mnt/c/Users/matth/matthew-wang/\n",
    "                            echo \"List files and folders in project directory\"\n",
    "                            echo\"\"\n",
    "                            ls\n",
    "                            echo \"print text content of _config.yml\"\n",
    "                            echo\"\"\n",
    "                            cat _config.yml"
   ]
  }
 ],
 "metadata": {
  "kernelspec": {
   "display_name": "Python 3",
   "language": "python",
   "name": "python3"
  },
  "language_info": {
   "codemirror_mode": {
    "name": "ipython",
    "version": 3
   },
   "file_extension": ".py",
   "mimetype": "text/x-python",
   "name": "python",
   "nbconvert_exporter": "python",
   "pygments_lexer": "ipython3",
   "version": "3.10.12"
  },
  "orig_nbformat": 4
 },
 "nbformat": 4,
 "nbformat_minor": 2
}
