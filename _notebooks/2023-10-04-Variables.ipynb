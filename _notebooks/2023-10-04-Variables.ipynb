{
 "cells": [
  {
   "cell_type": "code",
   "execution_count": 3,
   "metadata": {},
   "outputs": [
    {
     "name": "stdout",
     "output_type": "stream",
     "text": [
      "this is a string  and the name is exampleString\n"
     ]
    }
   ],
   "source": [
    "exampleString = \"this is a string\"\n",
    "print(f\"{exampleString} and the name is exampleString\")"
   ]
  },
  {
   "cell_type": "code",
   "execution_count": 4,
   "metadata": {},
   "outputs": [
    {
     "name": "stdout",
     "output_type": "stream",
     "text": [
      "Hello World! I am 16 years old. Am I an adult? False\n"
     ]
    }
   ],
   "source": [
    "welcomeMsg = \"Hello World!\"\n",
    "myAge = 16\n",
    "isAdult = False\n",
    "print(f\"{welcomeMsg} I am {str(myAge)} years old. Am I an adult? {str(isAdult)}\")"
   ]
  },
  {
   "cell_type": "code",
   "execution_count": 11,
   "metadata": {},
   "outputs": [
    {
     "name": "stdout",
     "output_type": "stream",
     "text": [
      "17\n"
     ]
    }
   ],
   "source": [
    "myAge = 16\n",
    "realAge = myAge\n",
    "realAge+=1\n",
    "print(realAge)"
   ]
  },
  {
   "cell_type": "code",
   "execution_count": 15,
   "metadata": {},
   "outputs": [
    {
     "name": "stdout",
     "output_type": "stream",
     "text": [
      "My second class is AP CALC\n"
     ]
    }
   ],
   "source": [
    "myClasses = ['USH', 'AP CALC', 'AMLIT', 'CSP', 'AP PHYSICS']\n",
    "print(\"My second class is \" + myClasses[1])"
   ]
  },
  {
   "cell_type": "code",
   "execution_count": 22,
   "metadata": {},
   "outputs": [
    {
     "name": "stdout",
     "output_type": "stream",
     "text": [
      "None\n"
     ]
    }
   ],
   "source": [
    "evenList = [2,4,6,8,10]\n",
    "evenNum = []\n",
    "evenNum = evenList\n",
    "print(evenNum)"
   ]
  },
  {
   "cell_type": "code",
   "execution_count": 1,
   "metadata": {},
   "outputs": [
    {
     "name": "stdout",
     "output_type": "stream",
     "text": [
      "Variable 1 = 26 and is an integer\n",
      "Variable 2 = Tesla and is a string\n",
      "Variable 3 = ['Nikki', 'Monika', 'Ankit', 'Varun'] and is a list\n",
      "Variable 4 = True and is a boolean\n"
     ]
    }
   ],
   "source": [
    "# Variable 1\n",
    "\n",
    "numStudents = 26\n",
    "#print(numStudents)\n",
    "\n",
    "#Variable 2\n",
    "\n",
    "car = \"Tesla\"\n",
    "#print(car)\n",
    "\n",
    "groupMates = [\"Nikki\", \"Monika\", \"Ankit\", \"Varun\"]\n",
    "#print(groupMates)\n",
    "\n",
    "#Variable 4\n",
    "\n",
    "dogsbeatcats = True\n",
    "#print(dogsbeatcats)\n",
    "\n",
    "print(f\"Variable 1 = {numStudents} and is an integer\")\n",
    "print(f\"Variable 2 = {car} and is a string\")\n",
    "print(f\"Variable 3 = {groupMates} and is a list\")\n",
    "print(f\"Variable 4 = {dogsbeatcats} and is a boolean\")"
   ]
  },
  {
   "cell_type": "code",
   "execution_count": 24,
   "metadata": {},
   "outputs": [
    {
     "name": "stdout",
     "output_type": "stream",
     "text": [
      "You passed! Your name is Matthew, you have 3 siblings named [\"Anna\", \"Grace\", \"Michelle\"], and your adult status is False.\n"
     ]
    }
   ],
   "source": [
    "import json\n",
    "numPets = 1\n",
    "siblings = ['Anna', 'Grace', 'Michelle']\n",
    "isAdult = False\n",
    "name = 'Matthew'\n",
    "listString = json.dumps(siblings)\n",
    "x = input('How many siblings do you have?')\n",
    "if int(x) == len(siblings):\n",
    "    x = input('Are you an adult?')\n",
    "    if str(x).lower() == \"false\":\n",
    "        print(f\"You passed! Your name is {name}, you have {len(siblings)} siblings named {listString}, and your adult status is {isAdult}.\")"
   ]
  }
 ],
 "metadata": {
  "kernelspec": {
   "display_name": "Python 3",
   "language": "python",
   "name": "python3"
  },
  "language_info": {
   "codemirror_mode": {
    "name": "ipython",
    "version": 3
   },
   "file_extension": ".py",
   "mimetype": "text/x-python",
   "name": "python",
   "nbconvert_exporter": "python",
   "pygments_lexer": "ipython3",
   "version": "3.10.12"
  },
  "orig_nbformat": 4
 },
 "nbformat": 4,
 "nbformat_minor": 2
}
