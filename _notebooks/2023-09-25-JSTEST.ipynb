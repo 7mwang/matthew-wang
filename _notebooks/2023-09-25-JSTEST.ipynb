{
 "cells": [
  {
   "cell_type": "markdown",
   "metadata": {},
   "source": [
    "---\n",
    "toc: true\n",
    "comments: true\n",
    "title: JS Test\n",
    "type: hacks\n",
    "courses: { csp: {week: 5, categories: [4.A]}}\n",
    "categories: [C1.4]\n",
    "---"
   ]
  },
  {
   "cell_type": "markdown",
   "metadata": {},
   "source": [
    "This code tests the values of a and b using if else statements, and outputs something into the console based on what the numbers are. I accomplished this by using <, >, and == in if and else statements, and using console.log() to output a response into the console."
   ]
  },
  {
   "cell_type": "markdown",
   "metadata": {},
   "source": [
    "<br><a href = \"https://nighthawkcoders.github.io/teacher/basics/javascript\">Original Lesson</a><br>"
   ]
  },
  {
   "cell_type": "code",
   "execution_count": null,
   "metadata": {
    "vscode": {
     "languageId": "html"
    }
   },
   "outputs": [],
   "source": [
    "%%js\n",
    "var a = 32\n",
    "var b = 16\n",
    "if (a>b){\n",
    "    console.log(\"a>b\")\n",
    "}\n",
    "else if(a<b){\n",
    "    console.log(\"a<b\")\n",
    "}\n",
    "else if(a==b){\n",
    "    console.log(\"a=b\")\n",
    "}"
   ]
  }
 ],
 "metadata": {
  "kernelspec": {
   "display_name": "Python 3",
   "language": "python",
   "name": "python3"
  },
  "language_info": {
   "codemirror_mode": {
    "name": "ipython",
    "version": 3
   },
   "file_extension": ".py",
   "mimetype": "text/x-python",
   "name": "python",
   "nbconvert_exporter": "python",
   "pygments_lexer": "ipython3",
   "version": "3.10.12"
  },
  "orig_nbformat": 4
 },
 "nbformat": 4,
 "nbformat_minor": 2
}
